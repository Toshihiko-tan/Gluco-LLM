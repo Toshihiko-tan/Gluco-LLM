{
 "cells": [
  {
   "cell_type": "code",
   "execution_count": 11,
   "metadata": {},
   "outputs": [],
   "source": [
    "import yaml\n",
    "from data_formatter.base import DataFormatter"
   ]
  },
  {
   "cell_type": "code",
   "execution_count": 12,
   "metadata": {},
   "outputs": [
    {
     "name": "stdout",
     "output_type": "stream",
     "text": [
      "--------------------------------\n",
      "Loading column definition...\n",
      "Checking column definition...\n",
      "Loading data...\n",
      "Dropping columns / rows...\n",
      "Checking for NA values...\n",
      "Setting data types...\n",
      "Dropping columns / rows...\n",
      "Encoding data...\n",
      "\tUpdated column definition:\n",
      "\t\tid: REAL_VALUED (ID)\n",
      "\t\ttime: DATE (TIME)\n",
      "\t\tgl: REAL_VALUED (TARGET)\n",
      "\t\tgender: REAL_VALUED (STATIC_INPUT)\n",
      "\t\tage: REAL_VALUED (STATIC_INPUT)\n",
      "\t\tBMI: REAL_VALUED (STATIC_INPUT)\n",
      "\t\tglycaemia: REAL_VALUED (STATIC_INPUT)\n",
      "\t\tHbA1c: REAL_VALUED (STATIC_INPUT)\n",
      "\t\tfollow.up: REAL_VALUED (STATIC_INPUT)\n",
      "\t\tT2DM: REAL_VALUED (STATIC_INPUT)\n",
      "\t\ttime_year: REAL_VALUED (KNOWN_INPUT)\n",
      "\t\ttime_month: REAL_VALUED (KNOWN_INPUT)\n",
      "\t\ttime_day: REAL_VALUED (KNOWN_INPUT)\n",
      "\t\ttime_hour: REAL_VALUED (KNOWN_INPUT)\n",
      "\t\ttime_minute: REAL_VALUED (KNOWN_INPUT)\n",
      "Interpolating data...\n",
      "\tDropped segments: 63\n",
      "\tExtracted segments: 205\n",
      "\tInterpolated values: 241\n",
      "\tPercent of values interpolated: 0.22%\n",
      "Splitting data...\n",
      "\tTrain: 72275 (45.89%)\n",
      "\tVal: 35713 (22.68%)\n",
      "\tTest: 38253 (24.29%)\n",
      "\tTest OOD: 11242 (7.14%)\n",
      "Scaling data...\n",
      "\tNo scaling applied\n",
      "Data formatting complete.\n",
      "--------------------------------\n"
     ]
    }
   ],
   "source": [
    "dataset = 'colas'\n",
    "with open(f'./config/{dataset}.yaml', 'r') as f:\n",
    "    config = yaml.safe_load(f)\n",
    "formatter = DataFormatter(config)"
   ]
  },
  {
   "cell_type": "code",
   "execution_count": 13,
   "metadata": {},
   "outputs": [
    {
     "name": "stdout",
     "output_type": "stream",
     "text": [
      "                      time     id     gl  gender   age   BMI  glycaemia  \\\n",
      "0      2012-01-01 00:00:00    0.0   86.0     1.0  77.0  25.4      106.0   \n",
      "1      2012-01-01 00:05:00    0.0   81.0     1.0  77.0  25.4      106.0   \n",
      "2      2012-01-01 00:10:00    0.0   78.0     1.0  77.0  25.4      106.0   \n",
      "3      2012-01-01 00:15:00    0.0   76.0     1.0  77.0  25.4      106.0   \n",
      "4      2012-01-01 00:20:00    0.0   76.0     1.0  77.0  25.4      106.0   \n",
      "...                    ...    ...    ...     ...   ...   ...        ...   \n",
      "108662 2012-01-02 11:35:00  207.0  111.0     1.0  67.0  26.6      101.0   \n",
      "108663 2012-01-02 11:40:00  207.0  110.0     1.0  67.0  26.6      101.0   \n",
      "108664 2012-01-02 11:45:00  207.0  110.0     1.0  67.0  26.6      101.0   \n",
      "108665 2012-01-02 11:50:00  207.0  111.0     1.0  67.0  26.6      101.0   \n",
      "108666 2012-01-02 11:55:00  207.0  112.0     1.0  67.0  26.6      101.0   \n",
      "\n",
      "        HbA1c  follow.up  T2DM  time_year  time_month  time_day  time_hour  \\\n",
      "0         6.3      413.0   0.0     2012.0         1.0       1.0        0.0   \n",
      "1         6.3      413.0   0.0     2012.0         1.0       1.0        0.0   \n",
      "2         6.3      413.0   0.0     2012.0         1.0       1.0        0.0   \n",
      "3         6.3      413.0   0.0     2012.0         1.0       1.0        0.0   \n",
      "4         6.3      413.0   0.0     2012.0         1.0       1.0        0.0   \n",
      "...       ...        ...   ...        ...         ...       ...        ...   \n",
      "108662    5.6     1168.0   0.0     2012.0         1.0       2.0       11.0   \n",
      "108663    5.6     1168.0   0.0     2012.0         1.0       2.0       11.0   \n",
      "108664    5.6     1168.0   0.0     2012.0         1.0       2.0       11.0   \n",
      "108665    5.6     1168.0   0.0     2012.0         1.0       2.0       11.0   \n",
      "108666    5.6     1168.0   0.0     2012.0         1.0       2.0       11.0   \n",
      "\n",
      "        time_minute  id_segment  \n",
      "0               0.0           0  \n",
      "1               5.0           0  \n",
      "2              10.0           0  \n",
      "3              15.0           0  \n",
      "4              20.0           0  \n",
      "...             ...         ...  \n",
      "108662         35.0         204  \n",
      "108663         40.0         204  \n",
      "108664         45.0         204  \n",
      "108665         50.0         204  \n",
      "108666         55.0         204  \n",
      "\n",
      "[72275 rows x 16 columns]\n",
      "                      time     id     gl  gender   age   BMI  glycaemia  \\\n",
      "315    2012-01-02 02:15:00    0.0  101.0     1.0  77.0  25.4      106.0   \n",
      "316    2012-01-02 02:20:00    0.0  102.0     1.0  77.0  25.4      106.0   \n",
      "317    2012-01-02 02:25:00    0.0  103.0     1.0  77.0  25.4      106.0   \n",
      "318    2012-01-02 02:30:00    0.0  104.0     1.0  77.0  25.4      106.0   \n",
      "319    2012-01-02 02:35:00    0.0  104.0     1.0  77.0  25.4      106.0   \n",
      "...                    ...    ...    ...     ...   ...   ...        ...   \n",
      "100170 2012-01-02 23:35:00  189.0  152.0     0.0  58.0  27.6      122.0   \n",
      "100171 2012-01-02 23:40:00  189.0  151.0     0.0  58.0  27.6      122.0   \n",
      "100172 2012-01-02 23:45:00  189.0  148.0     0.0  58.0  27.6      122.0   \n",
      "100173 2012-01-02 23:50:00  189.0  145.0     0.0  58.0  27.6      122.0   \n",
      "100174 2012-01-02 23:55:00  189.0  143.0     0.0  58.0  27.6      122.0   \n",
      "\n",
      "        HbA1c  follow.up  T2DM  time_year  time_month  time_day  time_hour  \\\n",
      "315       6.3      413.0   0.0     2012.0         1.0       2.0        2.0   \n",
      "316       6.3      413.0   0.0     2012.0         1.0       2.0        2.0   \n",
      "317       6.3      413.0   0.0     2012.0         1.0       2.0        2.0   \n",
      "318       6.3      413.0   0.0     2012.0         1.0       2.0        2.0   \n",
      "319       6.3      413.0   0.0     2012.0         1.0       2.0        2.0   \n",
      "...       ...        ...   ...        ...         ...       ...        ...   \n",
      "100170    5.6      677.0   0.0     2012.0         1.0       2.0       23.0   \n",
      "100171    5.6      677.0   0.0     2012.0         1.0       2.0       23.0   \n",
      "100172    5.6      677.0   0.0     2012.0         1.0       2.0       23.0   \n",
      "100173    5.6      677.0   0.0     2012.0         1.0       2.0       23.0   \n",
      "100174    5.6      677.0   0.0     2012.0         1.0       2.0       23.0   \n",
      "\n",
      "        time_minute  id_segment  \n",
      "315            15.0           0  \n",
      "316            20.0           0  \n",
      "317            25.0           0  \n",
      "318            30.0           0  \n",
      "319            35.0           0  \n",
      "...             ...         ...  \n",
      "100170         35.0         186  \n",
      "100171         40.0         186  \n",
      "100172         45.0         186  \n",
      "100173         50.0         186  \n",
      "100174         55.0         186  \n",
      "\n",
      "[49495 rows x 16 columns]\n"
     ]
    }
   ],
   "source": [
    "print(formatter.train_data)\n",
    "\n",
    "print(formatter.test_data)\n"
   ]
  },
  {
   "cell_type": "code",
   "execution_count": 10,
   "metadata": {},
   "outputs": [
    {
     "ename": "NameError",
     "evalue": "name 'sys' is not defined",
     "output_type": "error",
     "traceback": [
      "\u001b[31m---------------------------------------------------------------------------\u001b[39m",
      "\u001b[31mNameError\u001b[39m                                 Traceback (most recent call last)",
      "\u001b[36mCell\u001b[39m\u001b[36m \u001b[39m\u001b[32mIn[10]\u001b[39m\u001b[32m, line 1\u001b[39m\n\u001b[32m----> \u001b[39m\u001b[32m1\u001b[39m \u001b[43msys\u001b[49m.path.append(os.path.abspath(os.path.join(os.path.dirname(\u001b[34m__file__\u001b[39m), \u001b[33m'\u001b[39m\u001b[33m..\u001b[39m\u001b[33m'\u001b[39m)))\n\u001b[32m      2\u001b[39m \u001b[38;5;28;01mfrom\u001b[39;00m\u001b[38;5;250m \u001b[39m\u001b[34;01mbuild_prompt\u001b[39;00m\u001b[38;5;250m \u001b[39m\u001b[38;5;28;01mimport\u001b[39;00m RAGpromptFactory\n\u001b[32m      3\u001b[39m \u001b[38;5;28;01mfrom\u001b[39;00m\u001b[38;5;250m \u001b[39m\u001b[34;01mRAG\u001b[39;00m\u001b[34;01m.\u001b[39;00m\u001b[34;01mdarts_retriever\u001b[39;00m\u001b[38;5;250m \u001b[39m\u001b[38;5;28;01mimport\u001b[39;00m build_retriever_from_dataset\n",
      "\u001b[31mNameError\u001b[39m: name 'sys' is not defined"
     ]
    }
   ],
   "source": [
    "sys.path.append(os.path.abspath(os.path.join(os.path.dirname(__file__), '..')))\n",
    "from build_prompt import RAGpromptFactory\n",
    "from RAG.darts_retriever import build_retriever_from_dataset\n",
    "from darts import TimeSeries\n",
    "from utils.darts_dataset import SamplingDatasetInferenceDual"
   ]
  }
 ],
 "metadata": {
  "kernelspec": {
   "display_name": ".venv",
   "language": "python",
   "name": "python3"
  },
  "language_info": {
   "codemirror_mode": {
    "name": "ipython",
    "version": 3
   },
   "file_extension": ".py",
   "mimetype": "text/x-python",
   "name": "python",
   "nbconvert_exporter": "python",
   "pygments_lexer": "ipython3",
   "version": "3.12.7"
  }
 },
 "nbformat": 4,
 "nbformat_minor": 2
}
